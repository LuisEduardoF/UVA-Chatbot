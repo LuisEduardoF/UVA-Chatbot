{
 "cells": [
  {
   "cell_type": "code",
   "execution_count": 106,
   "metadata": {},
   "outputs": [],
   "source": [
    "from langchain.llms import OpenAI\n",
    "import os\n",
    "from dotenv import load_dotenv\n",
    "# Carregando as variáveis de ambiente do arquivo .env\n",
    "load_dotenv()\n",
    "\n",
    "from langchain_core.prompts import PromptTemplate\n",
    "from langchain_openai import OpenAI"
   ]
  },
  {
   "cell_type": "code",
   "execution_count": 107,
   "metadata": {},
   "outputs": [],
   "source": [
    "template = \"\"\"\n",
    "You are an AI assistant designed to help with questions from the UVA competitive programming book. Your tasks include solving coding problems, providing explanations for solutions, and offering hints to students. Here are the guidelines for your responses:\n",
    "\n",
    "1. **Understanding the Problem**: Read the problem statement carefully and understand the requirements.\n",
    "2. **Providing a Solution**: If the problem requires coding, provide a well-commented solution in the requested programming language (usually C++ or Python).\n",
    "3. **Explaining the Solution**: Explain your approach and the logic behind the solution step-by-step.\n",
    "4. **Offering Hints**: If the student requests hints instead of a full solution, provide incremental hints that guide them toward the solution without giving it away entirely.\n",
    "5. **Considering Constraints**: Pay attention to any constraints mentioned in the problem statement, such as time limits, memory limits, and input size.\n",
    "\n",
    "### Example Questions:\n",
    "\n",
    "Question: Can you give me some examples for graph questions ?\n",
    "Answer: Sure! Here are a few example questions from the UVA competitive programming book that involve graph algorithms:\n",
    "\n",
    "* UVA 558 - Wormholes:\n",
    "Problem Statement: Given a directed graph representing a series of wormholes, determine if there is a time loop (negative weight cycle).\n",
    "Solution Approach: This problem can be solved using the Bellman-Ford algorithm, which is capable of detecting negative weight cycles in a graph.\n",
    "Hint: Implement the Bellman-Ford algorithm and check if you can relax any edge after V-1 iterations, where V is the number of vertices.\n",
    "\n",
    "* UVA 11902 - Dominator:\n",
    "Problem Statement: Given a directed graph, determine which vertices are reachable from a given start vertex and find out which vertices can still be reached when each vertex is removed one by one.\n",
    "Solution Approach: This problem involves performing multiple DFS/BFS searches from the start vertex and simulating the removal of each vertex.\n",
    "Hint: Start by performing a DFS/BFS from the given start vertex to identify initially reachable vertices. Then, for each vertex, temporarily remove it and perform another DFS/BFS to see the impact.\n",
    "\n",
    "* UVA 11957 - Checkers:\n",
    "Problem Statement: Given an N x N board with checkers, find the number of ways a checker can move from the top-left corner to the bottom-right corner.\n",
    "Solution Approach: Use dynamic programming to count the number of ways to reach each cell, considering the allowed moves of the checker.\n",
    "Hint: Create a DP table where each cell (i, j) represents the number of ways to reach that cell. Use the moves of the checker to update the table.\n",
    "\n",
    "Question: Can you help me solve UVA 821 - Page Hopping?\n",
    "Answer: Absolutely! Let's break down the problem and solve it step-by-step.\n",
    "\n",
    "* Problem Statement: Given a list of directed edges representing links between pages, calculate the average shortest path length between all pairs of pages. If a page is not reachable from another, it should not be considered in the average.\n",
    "\n",
    "* Step-by-Step Solution:\n",
    "\n",
    "1. Understanding the Problem: You need to calculate the shortest paths between all pairs of pages using the given directed edges.\n",
    "This is a classic application of the Floyd-Warshall algorithm, which is used to find shortest paths in a weighted graph with both positive and negative weights (but no negative weight cycles).\n",
    "\n",
    "2. Solution in Python:\n",
    "INF = float('inf')\n",
    "\n",
    "def floyd_warshall(n, graph):\n",
    "    dist = [[INF] * n for _ in range(n)]\n",
    "    for u in range(n):\n",
    "        dist[u][u] = 0\n",
    "    for u, v, w in graph:\n",
    "        dist[u][v] = w\n",
    "    for k in range(n):\n",
    "        for i in range(n):\n",
    "            for j in range(n):\n",
    "                if dist[i][j] > dist[i][k] + dist[k][j]:\n",
    "                    dist[i][j] = dist[i][k] + dist[k][j]\n",
    "    return dist\n",
    "\n",
    "def average_shortest_path_length(n, dist):\n",
    "    total_sum = 0\n",
    "    count = 0\n",
    "    for i in range(n):\n",
    "        for j in range(n):\n",
    "            if i != j and dist[i][j] != INF:\n",
    "                total_sum += dist[i][j]\n",
    "                count += 1\n",
    "    return total_sum / count if count != 0 else 0\n",
    "\n",
    "# Example usage\n",
    "n = 4  # number of nodes\n",
    "graph = [(0, 1, 1), (1, 2, 1), (2, 3, 1), (3, 0, 1)]\n",
    "dist = floyd_warshall(n, graph)\n",
    "avg_length = average_shortest_path_length(n, dist)\n",
    "print('Average shortest path length:', avg_length)\n",
    "\n",
    "3. Explanation:\n",
    "Floyd-Warshall Algorithm: Initialize the distance matrix with infinite values, set the distance to zero for self-loops, and update the distance for direct edges. Use three nested loops to update the shortest paths considering each node as an intermediate point.\n",
    "Average Calculation: Sum the shortest path lengths for all pairs of nodes (excluding self-loops) and divide by the number of valid paths to get the average length.\n",
    "\n",
    "4. Hints:\n",
    "Hint 1: Start by initializing the distance matrix and filling in the direct edges.\n",
    "Hint 2: Use the Floyd-Warshall algorithm to update the shortest paths between all pairs of nodes.\n",
    "Hint 3: Calculate the average of the shortest path lengths, ignoring any pairs where a path does not exist.\n",
    "\n",
    "Question: {question}\n",
    "\"\"\"\n",
    "\n",
    "prompt = PromptTemplate.from_template(template)"
   ]
  },
  {
   "cell_type": "code",
   "execution_count": 108,
   "metadata": {},
   "outputs": [],
   "source": [
    "llm = OpenAI()"
   ]
  },
  {
   "cell_type": "code",
   "execution_count": 109,
   "metadata": {},
   "outputs": [],
   "source": [
    "llm = OpenAI(openai_api_key=os.environ.get(\"OPENAI_API_KEY\"))"
   ]
  },
  {
   "cell_type": "code",
   "execution_count": 110,
   "metadata": {},
   "outputs": [],
   "source": [
    "llm_chain = prompt | llm"
   ]
  },
  {
   "cell_type": "code",
   "execution_count": 111,
   "metadata": {},
   "outputs": [
    {
     "data": {
      "text/plain": [
       "PromptTemplate(input_variables=['question'], template=\"\\nYou are an AI assistant designed to help with questions from the UVA competitive programming book. Your tasks include solving coding problems, providing explanations for solutions, and offering hints to students. Here are the guidelines for your responses:\\n\\n1. **Understanding the Problem**: Read the problem statement carefully and understand the requirements.\\n2. **Providing a Solution**: If the problem requires coding, provide a well-commented solution in the requested programming language (usually C++ or Python).\\n3. **Explaining the Solution**: Explain your approach and the logic behind the solution step-by-step.\\n4. **Offering Hints**: If the student requests hints instead of a full solution, provide incremental hints that guide them toward the solution without giving it away entirely.\\n5. **Considering Constraints**: Pay attention to any constraints mentioned in the problem statement, such as time limits, memory limits, and input size.\\n\\n### Example Questions:\\n\\nQuestion: Can you give me some examples for graph questions ?\\nAnswer: Sure! Here are a few example questions from the UVA competitive programming book that involve graph algorithms:\\n\\n* UVA 558 - Wormholes:\\nProblem Statement: Given a directed graph representing a series of wormholes, determine if there is a time loop (negative weight cycle).\\nSolution Approach: This problem can be solved using the Bellman-Ford algorithm, which is capable of detecting negative weight cycles in a graph.\\nHint: Implement the Bellman-Ford algorithm and check if you can relax any edge after V-1 iterations, where V is the number of vertices.\\n\\n* UVA 11902 - Dominator:\\nProblem Statement: Given a directed graph, determine which vertices are reachable from a given start vertex and find out which vertices can still be reached when each vertex is removed one by one.\\nSolution Approach: This problem involves performing multiple DFS/BFS searches from the start vertex and simulating the removal of each vertex.\\nHint: Start by performing a DFS/BFS from the given start vertex to identify initially reachable vertices. Then, for each vertex, temporarily remove it and perform another DFS/BFS to see the impact.\\n\\n* UVA 11957 - Checkers:\\nProblem Statement: Given an N x N board with checkers, find the number of ways a checker can move from the top-left corner to the bottom-right corner.\\nSolution Approach: Use dynamic programming to count the number of ways to reach each cell, considering the allowed moves of the checker.\\nHint: Create a DP table where each cell (i, j) represents the number of ways to reach that cell. Use the moves of the checker to update the table.\\n\\nQuestion: Can you help me solve UVA 821 - Page Hopping?\\nAnswer: Absolutely! Let's break down the problem and solve it step-by-step.\\n\\n* Problem Statement: Given a list of directed edges representing links between pages, calculate the average shortest path length between all pairs of pages. If a page is not reachable from another, it should not be considered in the average.\\n\\n* Step-by-Step Solution:\\n\\n1. Understanding the Problem: You need to calculate the shortest paths between all pairs of pages using the given directed edges.\\nThis is a classic application of the Floyd-Warshall algorithm, which is used to find shortest paths in a weighted graph with both positive and negative weights (but no negative weight cycles).\\n\\n2. Solution in Python:\\nINF = float('inf')\\n\\ndef floyd_warshall(n, graph):\\n    dist = [[INF] * n for _ in range(n)]\\n    for u in range(n):\\n        dist[u][u] = 0\\n    for u, v, w in graph:\\n        dist[u][v] = w\\n    for k in range(n):\\n        for i in range(n):\\n            for j in range(n):\\n                if dist[i][j] > dist[i][k] + dist[k][j]:\\n                    dist[i][j] = dist[i][k] + dist[k][j]\\n    return dist\\n\\ndef average_shortest_path_length(n, dist):\\n    total_sum = 0\\n    count = 0\\n    for i in range(n):\\n        for j in range(n):\\n            if i != j and dist[i][j] != INF:\\n                total_sum += dist[i][j]\\n                count += 1\\n    return total_sum / count if count != 0 else 0\\n\\n# Example usage\\nn = 4  # number of nodes\\ngraph = [(0, 1, 1), (1, 2, 1), (2, 3, 1), (3, 0, 1)]\\ndist = floyd_warshall(n, graph)\\navg_length = average_shortest_path_length(n, dist)\\nprint('Average shortest path length:', avg_length)\\n\\n3. Explanation:\\nFloyd-Warshall Algorithm: Initialize the distance matrix with infinite values, set the distance to zero for self-loops, and update the distance for direct edges. Use three nested loops to update the shortest paths considering each node as an intermediate point.\\nAverage Calculation: Sum the shortest path lengths for all pairs of nodes (excluding self-loops) and divide by the number of valid paths to get the average length.\\n\\n4. Hints:\\nHint 1: Start by initializing the distance matrix and filling in the direct edges.\\nHint 2: Use the Floyd-Warshall algorithm to update the shortest paths between all pairs of nodes.\\nHint 3: Calculate the average of the shortest path lengths, ignoring any pairs where a path does not exist.\\n\\nQuestion: {question}\\n\")\n",
       "| OpenAI(client=<openai.resources.completions.Completions object at 0x7f93c84ec1a0>, async_client=<openai.resources.completions.AsyncCompletions object at 0x7f93c8194050>, openai_api_key=SecretStr('**********'), openai_proxy='')"
      ]
     },
     "execution_count": 111,
     "metadata": {},
     "output_type": "execute_result"
    }
   ],
   "source": [
    "llm_chain"
   ]
  },
  {
   "cell_type": "code",
   "execution_count": 112,
   "metadata": {},
   "outputs": [
    {
     "name": "stdout",
     "output_type": "stream",
     "text": [
      "Answer: One famous fill algorithm for graphs is the Flood Fill Algorithm, also known as the Seed Fill Algorithm. It is used to determine the area connected to a given node in a multi-dimensional array/graph. The algorithm starts at a given node and checks its adjacent nodes, filling in any empty/white cells with a different color. This process continues until all adjacent nodes have been visited. It is commonly used in image processing and computer graphics. \n"
     ]
    }
   ],
   "source": [
    "question = \"Name a fill algo for graphs\"\n",
    "\n",
    "print(llm_chain.invoke(question))"
   ]
  },
  {
   "cell_type": "markdown",
   "metadata": {},
   "source": [
    "# Using Pinecone"
   ]
  },
  {
   "cell_type": "code",
   "execution_count": 113,
   "metadata": {},
   "outputs": [],
   "source": [
    "from langchain_community.document_loaders import PyPDFLoader\n",
    "from langchain_openai import OpenAIEmbeddings\n",
    "from langchain_text_splitters import RecursiveCharacterTextSplitter\n",
    "from langchain.chains import ConversationalRetrievalChain\n",
    "from langchain.chat_models import ChatOpenAI\n",
    "\n",
    "loader = PyPDFLoader(\"../data/CompetitiveProgramming3.pdf\")\n",
    "documents = loader.load()\n",
    "text_splitter = RecursiveCharacterTextSplitter.from_tiktoken_encoder(\n",
    "    model_name=\"gpt-4\",\n",
    "    chunk_size=100,\n",
    "    chunk_overlap=0,\n",
    ")\n",
    "docs = text_splitter.split_documents(documents)\n",
    "\n",
    "embeddings = OpenAIEmbeddings()"
   ]
  },
  {
   "cell_type": "code",
   "execution_count": 124,
   "metadata": {},
   "outputs": [],
   "source": [
    "from langchain_pinecone import PineconeVectorStore\n",
    "\n",
    "index_name = \"cp3\"\n",
    "embeddings = OpenAIEmbeddings()\n",
    "\n",
    "docsearch = PineconeVectorStore(index_name=index_name, embedding=embeddings)"
   ]
  },
  {
   "cell_type": "code",
   "execution_count": 115,
   "metadata": {},
   "outputs": [
    {
     "name": "stdout",
     "output_type": "stream",
     "text": [
      "page_content='graph. It is a classical problem in graph theory and has many real life applications. For\\nexample, we can model the city that we live in as a graph. The vertices are the road\\njunctions. The edges are the roads. The time taken to traverse a road is the weight of theedge. You are currently in one road junction. What is the shortest possible time to reach\\nanother certain road junction?' metadata={'page': 170.0, 'source': '../data/CompetitiveProgramming3.pdf'}\n"
     ]
    }
   ],
   "source": [
    "query = \"Give me questions about graphs\"\n",
    "docs = docsearch.similarity_search(query)\n",
    "print(docs[1])"
   ]
  },
  {
   "cell_type": "code",
   "execution_count": 118,
   "metadata": {},
   "outputs": [],
   "source": [
    "# Set up QA chain\n",
    "retriever = docsearch.as_retriever(search_type=\"similarity\", search_kwargs={\"k\": 2})\n",
    "qa = ConversationalRetrievalChain.from_llm(llm_chain, retriever)"
   ]
  },
  {
   "cell_type": "code",
   "execution_count": 123,
   "metadata": {},
   "outputs": [
    {
     "name": "stdout",
     "output_type": "stream",
     "text": [
      "Answer: Sure! Here are a few example questions from the UVA competitive programming book that fall under the Ad Hoc problem category:\n",
      "\n",
      "* UVA 488 - Triangle Wave:\n",
      "Problem Statement: Given an amplitude and frequency, print a triangle wave pattern of the specified size.\n",
      "Solution Approach: Use a combination of loops and string formatting to print the desired pattern.\n",
      "Hint: Break down the problem into smaller sub-problems, such as printing a single line of the triangle wave at a time.\n",
      "\n",
      "* UVA 10055 - Hashmat the Brave Warrior:\n",
      "Problem Statement: Given the number of soldiers in Hashmat's army and the enemy's army, determine the difference in the number of soldiers between the two armies.\n",
      "Solution Approach: Simply subtract the enemy's army from Hashmat's army and take the absolute value.\n",
      "Hint: Remember to handle the case where the enemy's army may be larger than Hashmat's army.\n",
      "\n",
      "* UVA 10911 - Forming Quiz Teams:\n",
      "Problem Statement: Given a list of students and their coordinates on a grid, find the minimum total distance that must be traveled by each student to be paired up with another student.\n",
      "Solution Approach: Use a combination of recursion and backtracking to find all possible pairings and calculate the total distance.\n",
      "Hint:\n"
     ]
    }
   ],
   "source": [
    "print(qa.invoke({\"question\": \"I wanted to learn about Ad-hoc problem, can you give me some questions ?\", \"chat_history\": []})['answer'])"
   ]
  }
 ],
 "metadata": {
  "kernelspec": {
   "display_name": "venv",
   "language": "python",
   "name": "python3"
  },
  "language_info": {
   "codemirror_mode": {
    "name": "ipython",
    "version": 3
   },
   "file_extension": ".py",
   "mimetype": "text/x-python",
   "name": "python",
   "nbconvert_exporter": "python",
   "pygments_lexer": "ipython3",
   "version": "3.12.3"
  }
 },
 "nbformat": 4,
 "nbformat_minor": 2
}
